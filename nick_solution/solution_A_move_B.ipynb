{
 "cells": [
  {
   "cell_type": "code",
   "execution_count": null,
   "metadata": {
    "collapsed": true
   },
   "outputs": [],
   "source": [
    "from imp import reload\n",
    "import utils; reload(utils); from utils import *\n",
    "import pandas as pd \n",
    "import numpy as np\n",
    "import matplotlib.pyplot as plt\n",
    "%matplotlib inline\n",
    "import operator\n",
    "from sklearn.manifold import TSNE\n",
    "from sklearn.feature_selection import *\n",
    "from sklearn import metrics\n",
    "from xgboost import XGBClassifier, plot_importance, plot_tree\n",
    "from collections import Counter\n",
    "import xgboost\n",
    "import pickle\n",
    "from __future__ import division, print_function\n",
    "from sklearn.model_selection import cross_val_score, GridSearchCV\n",
    "from sklearn.cross_validation import StratifiedKFold\n",
    "from sklearn.preprocessing import MinMaxScaler, PolynomialFeatures\n",
    "from sklearn.ensemble import GradientBoostingClassifier\n",
    "from sklearn.metrics import auc, roc_curve\n",
    "from sklearn.decomposition import PCA\n",
    "from itertools import combinations\n",
    "from sklearn.metrics import roc_auc_score, accuracy_score, confusion_matrix\n",
    "from sklearn.neighbors import KNeighborsClassifier\n",
    "from imblearn import under_sampling\n",
    "from sklearn.ensemble.bagging import BaggingClassifier"
   ]
  },
  {
   "cell_type": "code",
   "execution_count": null,
   "metadata": {
    "collapsed": true
   },
   "outputs": [],
   "source": [
    "def preprocess_data(data, training=True):\n",
    "    if training:\n",
    "        y_train = data.flag\n",
    "        data.drop(['flag', 'no'], axis=1, inplace=True)\n",
    "    else:\n",
    "        pred_no = data['no']\n",
    "        data.drop(['no'], axis=1, inplace=True)\n",
    "        \n",
    "    data.columns = map(str.lower, data.columns)\n",
    "    \n",
    "    mm_scale = MinMaxScaler()\n",
    "    data['num_of_not_null'] = np.sum(data.isnull(), axis=1)\n",
    "    data = data.fillna(0)\n",
    "    data['row_var'] = data.var(axis=1)\n",
    "#     data['row_sum'] = data.sum(axis=1)\n",
    "#     data['row_max'] = data.max(axis=1)\n",
    "    data['row_min'] = data.min(axis=1)\n",
    "\n",
    "    features_raw = data.columns.values.tolist()\n",
    "    data = mm_scale.fit_transform(data)\n",
    "    data = np.log(data+1) \n",
    "    data = pd.DataFrame(data, columns=features_raw)\n",
    "    if training == False:\n",
    "        return data, pred_no, features_raw\n",
    "    return data, y_train, features_raw\n",
    "\n",
    "def modelfit(alg, dtrain, target, useTrainCV=True, cv_folds=5, early_stopping_rounds=50):\n",
    "    if useTrainCV:\n",
    "        xgb_param = alg.get_xgb_params()\n",
    "#         xgtrain = xgboost.DMatrix(dtrain.values, label=target.values)\n",
    "        xgtrain = xgboost.DMatrix(dtrain, label=target)\n",
    "        cvresult = xgboost.cv(xgb_param, xgtrain, num_boost_round=alg.get_params()['n_estimators'], \n",
    "                              stratified=True, nfold=cv_folds, metrics='auc', \n",
    "                              early_stopping_rounds=early_stopping_rounds)\n",
    "        alg.set_params(n_estimators=cvresult.shape[0])\n",
    "    \n",
    "    # Fit the algorithm on the data\n",
    "    alg.fit(dtrain, target, eval_metric='auc')\n",
    "        \n",
    "    # Predict training set:\n",
    "    dtrain_predictions = alg.predict_proba(dtrain)\n",
    "    roc_result = roc_auc_score(target, dtrain_predictions[:,1])\n",
    "    #Print model report:\n",
    "    print(\"\\nModel Report\")\n",
    "#     print(cvresult.tail(1)['test-auc-mean'].values[0])\n",
    "    print(cvresult.tail(1))\n",
    "    print(\"auc: %.4f\" % roc_result)\n",
    "    print(\"Optimal number of trees (estimators) is %i\" % cvresult.shape[0])    \n",
    "    f = plt.figure(figsize=[10, 12])\n",
    "    ax = f.add_subplot(111)\n",
    "    plot_importance(alg, ax=ax)\n",
    "\n",
    "    return cvresult.tail(1)['test-auc-mean'].values[0], roc_result"
   ]
  },
  {
   "cell_type": "code",
   "execution_count": null,
   "metadata": {
    "collapsed": true
   },
   "outputs": [],
   "source": [
    "X_train_A, y_A, features = preprocess_data(pd.read_csv('data/A_train.csv'))\n",
    "X_train_B, y_B, features = preprocess_data(pd.read_csv('data/B_train.csv'))\n",
    "X_test_B, pred_no, features = preprocess_data(pd.read_csv('data/B_test.csv'), training=False)\n",
    "xgb = XGBClassifier(scale_pos_weight=3)\n",
    "xgb.fit(X_train_A, y_A)\n",
    "X_train_B_N = pd.concat((X_train_B, pd.DataFrame(xgb.predict_proba(X_train_B)[:,1])), axis=1)\n",
    "X_test_B_N = pd.concat((X_test_B, pd.DataFrame(xgb.predict_proba(X_test_B)[:,1])), axis=1)"
   ]
  },
  {
   "cell_type": "code",
   "execution_count": null,
   "metadata": {
    "collapsed": true
   },
   "outputs": [],
   "source": [
    "xgb1.set_params(n_estimators=103)\n",
    "xgb1.set_params(max_depth=2)\n",
    "xgb1.set_params(min_child_weight=4)\n",
    "xgb1.set_params(colsample_bytree=0.74)\n",
    "xgb1.set_params(subsample=0.91)\n",
    "xgb1.set_params(reg_alpha=0.007)\n",
    "xgb1.set_params(learning_rate=0.01)"
   ]
  },
  {
   "cell_type": "code",
   "execution_count": null,
   "metadata": {
    "collapsed": true
   },
   "outputs": [],
   "source": [
    "filename = \"data/predict_from_A.csv\"\n",
    "bg_a_plus_b = BaggingClassifier(xgb1, n_estimators=50)\n",
    "bg_a_plus_b.fit(X_train_B_N, y_B)\n",
    "preds = bg_a_plus_b.predict_proba(X_test_B_N)\n",
    "submit(pred_no, preds, filename)"
   ]
  }
 ],
 "metadata": {
  "anaconda-cloud": {},
  "kernelspec": {
   "display_name": "Python [xgboost]",
   "language": "python",
   "name": "Python [xgboost]"
  },
  "language_info": {
   "codemirror_mode": {
    "name": "ipython",
    "version": 2
   },
   "file_extension": ".py",
   "mimetype": "text/x-python",
   "name": "python",
   "nbconvert_exporter": "python",
   "pygments_lexer": "ipython2",
   "version": "2.7.13"
  },
  "toc": {
   "colors": {
    "hover_highlight": "#DAA520",
    "running_highlight": "#FF0000",
    "selected_highlight": "#FFD700"
   },
   "moveMenuLeft": true,
   "nav_menu": {
    "height": "12px",
    "width": "252px"
   },
   "navigate_menu": true,
   "number_sections": true,
   "sideBar": true,
   "threshold": 4,
   "toc_cell": false,
   "toc_section_display": "block",
   "toc_window_display": false
  }
 },
 "nbformat": 4,
 "nbformat_minor": 0
}
